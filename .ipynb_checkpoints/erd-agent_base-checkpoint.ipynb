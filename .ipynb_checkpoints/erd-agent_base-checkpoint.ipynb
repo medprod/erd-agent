{
 "cells": [
  {
   "cell_type": "markdown",
   "id": "1b1f2829-fb43-4ee7-8e1e-a1a0c56791b3",
   "metadata": {},
   "source": [
    "#### ERD Agent"
   ]
  },
  {
   "cell_type": "code",
   "execution_count": 2,
   "id": "3a64e7a6-9210-4cf6-8a61-aeeea2e40cc8",
   "metadata": {},
   "outputs": [],
   "source": [
    "#pip install openai python-dotenv"
   ]
  },
  {
   "cell_type": "code",
   "execution_count": 3,
   "id": "28d32df8-6ce3-4faf-8812-3d2c249fa687",
   "metadata": {},
   "outputs": [],
   "source": [
    "import os\n",
    "from dotenv import find_dotenv\n",
    "from dotenv import load_dotenv\n",
    "from openai import OpenAI"
   ]
  },
  {
   "cell_type": "code",
   "execution_count": 5,
   "id": "ee91b639-ccd6-4357-9771-cb04bda50e20",
   "metadata": {},
   "outputs": [],
   "source": [
    "env_file = find_dotenv('key.env')\n",
    "load_dotenv(env_file)\n",
    "api_key = os.getenv('OPENAI_API_KEY')\n",
    "client = OpenAI(api_key=api_key)"
   ]
  },
  {
   "cell_type": "code",
   "execution_count": 7,
   "id": "65d2f9d1-6c5d-4ce1-8b9d-fb7f42f14284",
   "metadata": {},
   "outputs": [
    {
     "name": "stdout",
     "output_type": "stream",
     "text": [
      "Requirement already satisfied: graphviz in /opt/anaconda3/lib/python3.12/site-packages (0.20.3)\n",
      "Note: you may need to restart the kernel to use updated packages.\n"
     ]
    }
   ],
   "source": [
    "pip install graphviz"
   ]
  },
  {
   "cell_type": "code",
   "execution_count": 8,
   "id": "91245951-8117-4d06-ab51-926b0b847f96",
   "metadata": {},
   "outputs": [
    {
     "name": "stdout",
     "output_type": "stream",
     "text": [
      "zsh:1: no matches found: eralchemy[graphviz]\n",
      "Note: you may need to restart the kernel to use updated packages.\n"
     ]
    }
   ],
   "source": [
    "pip install eralchemy[graphviz]"
   ]
  },
  {
   "cell_type": "code",
   "execution_count": 11,
   "id": "df474a75-9e0b-4a90-8e8b-84e09037ac7d",
   "metadata": {},
   "outputs": [],
   "source": [
    "import tempfile\n",
    "from eralchemy import render_er "
   ]
  },
  {
   "cell_type": "code",
   "execution_count": 13,
   "id": "26f429bd-9760-4f47-9c00-333f9decccd1",
   "metadata": {},
   "outputs": [],
   "source": [
    "#generating the sql alchemy model by taking the user description and returning a response\n",
    "def build_sqlalchemy_model(user_description):\n",
    "\n",
    "    #complete sentences here to ensure llm outputs a complete model\n",
    "    system_prompt = (\"You are an expert at building SQLAlchemy models. \"\n",
    "    \"Given a database description, write SQLAlchemy models using declarative_base. \"\n",
    "    \"Only output the models. Do not include explanations, code fences, or comments.\")\n",
    "\n",
    "    user_input = f\"Create SQLAlchemy models for this database: {user_description}\"\n",
    "\n",
    "    response = client.chat.completions.create(\n",
    "        model=\"gpt-4o\",\n",
    "        messages=[\n",
    "            {\"role\": \"system\", \"content\":system_prompt},\n",
    "            {\"role\": \"user\", \"content\": user_input}\n",
    "        ],\n",
    "        max_tokens = 800,\n",
    "        temperature = 0.2\n",
    "    )\n",
    "\n",
    "    return response.choices[0].message.content"
   ]
  },
  {
   "cell_type": "code",
   "execution_count": 15,
   "id": "eea3e562-d91e-4957-b236-c9601e66b66f",
   "metadata": {},
   "outputs": [],
   "source": [
    "#saving the model to a temporary file\n",
    "def save_model(erd_model):\n",
    "    temp = tempfile.NamedTemporaryFile(delete=False, suffix = '.py', mode='w', encoding='utf-8')\n",
    "    temp.write(erd_model)\n",
    "    temp.close()\n",
    "    return temp.name"
   ]
  },
  {
   "cell_type": "code",
   "execution_count": 17,
   "id": "1c0afdd0-89b8-48fc-923c-c11c6b8685c1",
   "metadata": {},
   "outputs": [],
   "source": [
    "def get_base_from_models(model_file_path):\n",
    "    import importlib.util\n",
    "    spec = importlib.util.spec_from_file_location(\"models\", model_file_path)\n",
    "    models = importlib.util.module_from_spec(spec)\n",
    "    spec.loader.exec_module(models)\n",
    "\n",
    "    if hasattr(models, 'Base'):\n",
    "        return models.Base\n",
    "    else:\n",
    "        raise ValueError(\"Could not find SQLAlchemy Base in generated models.\")"
   ]
  },
  {
   "cell_type": "code",
   "execution_count": 21,
   "id": "aa472f27-22fa-4760-9d96-f237d757bac9",
   "metadata": {},
   "outputs": [
    {
     "name": "stdout",
     "output_type": "stream",
     "text": [
      "Describe your database :\n"
     ]
    },
    {
     "name": "stdin",
     "output_type": "stream",
     "text": [
      ">  An online store with customers, products, categories, and orders. Each customer can place multiple orders. Each order can contain multiple products. Each product belongs to a category\n"
     ]
    },
    {
     "name": "stdout",
     "output_type": "stream",
     "text": [
      "\n",
      "Generating SQLAlchemy models with GPT...\n",
      "\n",
      "Generated SQLAlchemy models:\n",
      "\n",
      "from sqlalchemy import Column, Integer, String, ForeignKey, Table\n",
      "from sqlalchemy.orm import relationship\n",
      "from sqlalchemy.ext.declarative import declarative_base\n",
      "\n",
      "Base = declarative_base()\n",
      "\n",
      "order_product_association = Table(\n",
      "    'order_product', Base.metadata,\n",
      "    Column('order_id', Integer, ForeignKey('orders.id'), primary_key=True),\n",
      "    Column('product_id', Integer, ForeignKey('products.id'), primary_key=True)\n",
      ")\n",
      "\n",
      "class Customer(Base):\n",
      "    __tablename__ = 'customers'\n",
      "    \n",
      "    id = Column(Integer, primary_key=True)\n",
      "    name = Column(String, nullable=False)\n",
      "    email = Column(String, unique=True, nullable=False)\n",
      "    \n",
      "    orders = relationship('Order', back_populates='customer')\n",
      "\n",
      "class Product(Base):\n",
      "    __tablename__ = 'products'\n",
      "    \n",
      "    id = Column(Integer, primary_key=True)\n",
      "    name = Column(String, nullable=False)\n",
      "    price = Column(Integer, nullable=False)\n",
      "    category_id = Column(Integer, ForeignKey('categories.id'))\n",
      "    \n",
      "    category = relationship('Category', back_populates='products')\n",
      "    orders = relationship('Order', secondary=order_product_association, back_populates='products')\n",
      "\n",
      "class Category(Base):\n",
      "    __tablename__ = 'categories'\n",
      "    \n",
      "    id = Column(Integer, primary_key=True)\n",
      "    name = Column(String, nullable=False)\n",
      "    \n",
      "    products = relationship('Product', back_populates='category')\n",
      "\n",
      "class Order(Base):\n",
      "    __tablename__ = 'orders'\n",
      "    \n",
      "    id = Column(Integer, primary_key=True)\n",
      "    customer_id = Column(Integer, ForeignKey('customers.id'))\n",
      "    \n",
      "    customer = relationship('Customer', back_populates='orders')\n",
      "    products = relationship('Product', secondary=order_product_association, back_populates='orders')\n",
      "\n",
      "Saving models and generating ERD image...\n",
      "\n",
      "ERD image saved as erd_output.png (open this file to view your diagram!)\n"
     ]
    }
   ],
   "source": [
    "if __name__==\"__main__\":\n",
    "    print(\"Describe your database :\")\n",
    "    user_description = input(\"> \")\n",
    "    print(\"\\nGenerating SQLAlchemy models with GPT...\")\n",
    "    erd_model = build_sqlalchemy_model(user_description)\n",
    "    print(\"\\nGenerated SQLAlchemy models:\\n\")\n",
    "    print(erd_model)\n",
    "    print(\"\\nSaving models and generating ERD image...\")\n",
    "\n",
    "    model_file_path = save_model(erd_model)\n",
    "    base = get_base_from_models(model_file_path)\n",
    "    output_file = \"erd_output.png\"\n",
    "    render_er(base, output_file)\n",
    "    print(f\"\\nERD image saved as {output_file} (open this file to view your diagram!)\")    "
   ]
  },
  {
   "cell_type": "code",
   "execution_count": null,
   "id": "c96b2f9d-1a7c-471f-8141-49e787a49cc3",
   "metadata": {},
   "outputs": [],
   "source": []
  }
 ],
 "metadata": {
  "kernelspec": {
   "display_name": "Python [conda env:base] *",
   "language": "python",
   "name": "conda-base-py"
  },
  "language_info": {
   "codemirror_mode": {
    "name": "ipython",
    "version": 3
   },
   "file_extension": ".py",
   "mimetype": "text/x-python",
   "name": "python",
   "nbconvert_exporter": "python",
   "pygments_lexer": "ipython3",
   "version": "3.12.7"
  }
 },
 "nbformat": 4,
 "nbformat_minor": 5
}
